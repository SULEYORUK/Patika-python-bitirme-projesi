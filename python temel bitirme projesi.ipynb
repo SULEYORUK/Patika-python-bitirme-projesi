{
 "cells": [
  {
   "cell_type": "markdown",
   "id": "b86d4bb5",
   "metadata": {},
   "source": [
    "''' Bir listeyi düzleştiren (flatten) fonksiyon yazın. Elemanları birden çok katmanlı listelerden ([[3],2] gibi) oluşabileceği gibi, non-scalar verilerden de oluşabilir. Örnek olarak:\n",
    "\n",
    "input: [[1,'a',['cat'],2],[[[3]],'dog'],4,5]\n",
    "\n",
    "output: [1,'a','cat',2,3,'dog',4,5]'''"
   ]
  },
  {
   "cell_type": "code",
   "execution_count": 9,
   "id": "1b7861f1",
   "metadata": {},
   "outputs": [
    {
     "name": "stdout",
     "output_type": "stream",
     "text": [
      "[1, 'a', 'cat', 2, 3, 'dog', 4, 5]\n"
     ]
    }
   ],
   "source": [
    "yeni_liste = []\n",
    "def duz(liste):\n",
    "    for i in liste:\n",
    "        if type(i) == list:\n",
    "            duz(i)\n",
    "        else:\n",
    "            yeni_liste.append(i)\n",
    "            \n",
    "liste =  [[1,'a',['cat'],2],[[[3]],'dog'],4,5]\n",
    "duz(liste)\n",
    "print(yeni_liste)\n",
    "\n",
    "    \n",
    "\n",
    "\n",
    "    \n",
    "    "
   ]
  },
  {
   "cell_type": "markdown",
   "id": "c8c1f3ad",
   "metadata": {},
   "source": [
    "'''2- Verilen listenin içindeki elemanları tersine döndüren bir fonksiyon yazın. Eğer listenin içindeki elemanlar da liste içeriyorsa onların elemanlarını da tersine döndürün. Örnek olarak:  \n",
    "\n",
    "input: [[1, 2], [3, 4], [5, 6, 7]]\n",
    "\n",
    "output: [[[7, 6, 5], [4, 3], [2, 1]]'''"
   ]
  },
  {
   "cell_type": "code",
   "execution_count": 39,
   "id": "1c24e5bc",
   "metadata": {},
   "outputs": [
    {
     "name": "stdout",
     "output_type": "stream",
     "text": [
      "[[7, 6, 5], [4, 3], [2, 1]]\n"
     ]
    }
   ],
   "source": [
    "yeni_liste = []\n",
    "def ters(liste):\n",
    "    for i in liste:\n",
    "        if type(i)==list:\n",
    "            yeni_liste.append(list(reversed(i)))\n",
    "            \n",
    "ters([[1, 2], [3, 4], [5, 6, 7]])\n",
    "print(list(reversed(yeni_liste)))\n",
    "            \n",
    "                          \n",
    "                              \n",
    "  \n",
    "              \n",
    "\n",
    "   \n"
   ]
  },
  {
   "cell_type": "code",
   "execution_count": null,
   "id": "d102db17",
   "metadata": {},
   "outputs": [],
   "source": []
  }
 ],
 "metadata": {
  "kernelspec": {
   "display_name": "Python 3",
   "language": "python",
   "name": "python3"
  },
  "language_info": {
   "codemirror_mode": {
    "name": "ipython",
    "version": 3
   },
   "file_extension": ".py",
   "mimetype": "text/x-python",
   "name": "python",
   "nbconvert_exporter": "python",
   "pygments_lexer": "ipython3",
   "version": "3.8.8"
  }
 },
 "nbformat": 4,
 "nbformat_minor": 5
}
